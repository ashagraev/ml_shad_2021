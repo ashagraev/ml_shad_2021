{
 "cells": [
  {
   "cell_type": "markdown",
   "metadata": {},
   "source": [
    "Here are several function that may help to create imbalanced dataset with your weights for each class."
   ]
  },
  {
   "cell_type": "code",
   "execution_count": 1,
   "metadata": {},
   "outputs": [],
   "source": [
    "import random\n",
    "\n",
    "import torch\n",
    "import torchvision\n",
    "\n",
    "from matplotlib import pyplot as plt\n",
    "\n",
    "import numpy as np"
   ]
  },
  {
   "cell_type": "code",
   "execution_count": 2,
   "metadata": {},
   "outputs": [],
   "source": [
    "BATCH_SIZE = 4"
   ]
  },
  {
   "cell_type": "markdown",
   "metadata": {},
   "source": [
    "### Download data"
   ]
  },
  {
   "cell_type": "code",
   "execution_count": 3,
   "metadata": {},
   "outputs": [
    {
     "data": {
      "text/plain": [
       "(60000, 10000)"
      ]
     },
     "execution_count": 3,
     "metadata": {},
     "output_type": "execute_result"
    }
   ],
   "source": [
    "transform = torchvision.transforms.Compose([\n",
    "    torchvision.transforms.ToTensor(),\n",
    "    torchvision.transforms.Normalize( (0.1307,), (0.3081,))\n",
    "])\n",
    "train_data = torchvision.datasets.MNIST('data', train=True, download=True, transform=transform)\n",
    "test_data = torchvision.datasets.MNIST('data', train=False, download=True)\n",
    "\n",
    "len(train_data), len(test_data)"
   ]
  },
  {
   "cell_type": "markdown",
   "metadata": {},
   "source": [
    "### Create Dataset & DataLoader"
   ]
  },
  {
   "cell_type": "code",
   "execution_count": 4,
   "metadata": {},
   "outputs": [],
   "source": [
    "# These function will help to find weights for elements of dataset according to distribution of train dataset we need\n",
    "\n",
    "def get_indices_by_labels(dataset, n_classes):\n",
    "    indices = [[] for i in range(n_classes)]\n",
    "    i = 0\n",
    "    for img, label in dataset:\n",
    "        indices[label].append(i)\n",
    "        i += 1\n",
    "    return indices\n",
    "\n",
    "def apply_weighted_sampler(dataset, weights):\n",
    "    elements_weights = [0] * len(dataset)\n",
    "    indices = get_indices_by_labels(dataset, len(weights))\n",
    "    \n",
    "    mult = float(weights[0] / len(indices[0]))\n",
    "    for i in range(len(weights)):\n",
    "        mult = max(mult, float(weights[i] / len(indices[i])))\n",
    "        \n",
    "    weights = np.array(weights) / mult\n",
    "    \n",
    "    for i in range(len(indices)):\n",
    "        indices[i] = random.sample(indices[i], int(weights[i]))\n",
    "        for ind in indices[i]:\n",
    "            elements_weights[ind] = 1\n",
    "    return np.array(elements_weights)"
   ]
  },
  {
   "cell_type": "code",
   "execution_count": 5,
   "metadata": {},
   "outputs": [],
   "source": [
    "class_weights = [1, 2, 3, 4, 5, 6, 7, 8, 9, 10]\n",
    "weights = apply_weighted_sampler(train_data, class_weights)"
   ]
  },
  {
   "cell_type": "code",
   "execution_count": 6,
   "metadata": {},
   "outputs": [
    {
     "data": {
      "text/plain": [
       "32716"
      ]
     },
     "execution_count": 6,
     "metadata": {},
     "output_type": "execute_result"
    }
   ],
   "source": [
    "sampler = torch.utils.data.sampler.WeightedRandomSampler(weights, int(sum(weights)))   \n",
    "train_loader = torch.utils.data.DataLoader(train_data, batch_size=BATCH_SIZE, sampler=sampler, num_workers=0)\n",
    "\n",
    "len(train_loader) * BATCH_SIZE"
   ]
  },
  {
   "cell_type": "code",
   "execution_count": 7,
   "metadata": {},
   "outputs": [
    {
     "name": "stdout",
     "output_type": "stream",
     "text": [
      "tensor([7, 5, 8, 4])\n"
     ]
    },
    {
     "data": {
      "image/png": "[encoded data removed]",
      "text/plain": [
       "<Figure size 1224x576 with 4 Axes>"
      ]
     },
     "metadata": {
      "needs_background": "light"
     },
     "output_type": "display_data"
    }
   ],
   "source": [
    "for img, label in train_loader:\n",
    "    plt.figure(figsize=(17, 8))\n",
    "    for i in range(len(img)):\n",
    "        plt.subplot(1, len(img), i + 1)\n",
    "        plt.imshow(img[i][0])\n",
    "    print(label)\n",
    "    break"
   ]
  },
  {
   "cell_type": "markdown",
   "metadata": {},
   "source": [
    "\n",
    "### Check if it works"
   ]
  },
  {
   "cell_type": "code",
   "execution_count": 8,
   "metadata": {},
   "outputs": [],
   "source": [
    "freqs = [0] * 10\n",
    "for img, label in train_loader:\n",
    "    for l in label:\n",
    "        freqs[l] += 1"
   ]
  },
  {
   "cell_type": "code",
   "execution_count": 9,
   "metadata": {},
   "outputs": [
    {
     "data": {
      "text/plain": [
       "array([ 1.        ,  1.97840532,  2.99833887,  3.82225914,  4.81395349,\n",
       "        5.9269103 ,  6.89202658,  7.99667774,  8.91362126, 10.00166113])"
      ]
     },
     "execution_count": 9,
     "metadata": {},
     "output_type": "execute_result"
    }
   ],
   "source": [
    "np.array(freqs) / (freqs[0] / class_weights[0])"
   ]
  }
 ],
 "metadata": {
  "kernelspec": {
   "display_name": "YSDA",
   "language": "python",
   "name": "ysda"
  },
  "language_info": {
   "codemirror_mode": {
    "name": "ipython",
    "version": 3
   },
   "file_extension": ".py",
   "mimetype": "text/x-python",
   "name": "python",
   "nbconvert_exporter": "python",
   "pygments_lexer": "ipython3",
   "version": "3.6.12"
  }
 },
 "nbformat": 4,
 "nbformat_minor": 4
}
