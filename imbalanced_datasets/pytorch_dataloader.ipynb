{
 "cells": [
  {
   "cell_type": "markdown",
   "metadata": {},
   "source": [
    "Here are several function that may help to create imbalanced dataset with your weights for each class."
   ]
  },
  {
   "cell_type": "code",
   "execution_count": 10,
   "metadata": {},
   "outputs": [],
   "source": [
    "import random\n",
    "\n",
    "import torch\n",
    "import torchvision\n",
    "\n",
    "from matplotlib import pyplot as plt\n",
    "\n",
    "import numpy as np"
   ]
  },
  {
   "cell_type": "code",
   "execution_count": 11,
   "metadata": {},
   "outputs": [],
   "source": [
    "BATCH_SIZE = 4"
   ]
  },
  {
   "cell_type": "markdown",
   "metadata": {},
   "source": [
    "### Download data"
   ]
  },
  {
   "cell_type": "code",
   "execution_count": 12,
   "metadata": {},
   "outputs": [
    {
     "data": {
      "text/plain": [
       "(60000, 10000)"
      ]
     },
     "execution_count": 12,
     "metadata": {},
     "output_type": "execute_result"
    }
   ],
   "source": [
    "transform = torchvision.transforms.Compose([\n",
    "    torchvision.transforms.ToTensor(),\n",
    "    torchvision.transforms.Normalize( (0.1307,), (0.3081,))\n",
    "])\n",
    "train_data = torchvision.datasets.MNIST('data', train=True, download=True, transform=transform)\n",
    "test_data = torchvision.datasets.MNIST('data', train=False, download=True)\n",
    "\n",
    "len(train_data), len(test_data)"
   ]
  },
  {
   "cell_type": "markdown",
   "metadata": {},
   "source": [
    "### Create Dataset & DataLoader"
   ]
  },
  {
   "cell_type": "code",
   "execution_count": 13,
   "metadata": {},
   "outputs": [],
   "source": [
    "# These function will help to find weights for elements of dataset according to distribution of train dataset we need\n",
    "\n",
    "def get_indices_by_labels(dataset, n_classes):\n",
    "    indices = [[] for i in range(n_classes)]\n",
    "    i = 0\n",
    "    for img, label in dataset:\n",
    "        indices[label].append(i)\n",
    "        i += 1\n",
    "    return indices\n",
    "\n",
    "def apply_weighted_sampler(dataset, weights):\n",
    "    elements_weights = [0] * len(dataset)\n",
    "    indices = get_indices_by_labels(dataset, len(weights))\n",
    "    \n",
    "    mult = float(weights[0] / len(indices[0]))\n",
    "    for i in range(len(weights)):\n",
    "        mult = max(mult, float(weights[i] / len(indices[i])))\n",
    "        \n",
    "    weights = np.array(weights) / mult\n",
    "    \n",
    "    for i in range(len(indices)):\n",
    "        indices[i] = random.sample(indices[i], int(weights[i]))\n",
    "        for ind in indices[i]:\n",
    "            elements_weights[ind] = 1\n",
    "            \n",
    "    sampler = torch.utils.data.sampler.WeightedRandomSampler(elements_weights, int(sum(elements_weights)))\n",
    "    loader = torch.utils.data.DataLoader(train_data, batch_size=BATCH_SIZE, sampler=sampler, num_workers=0)\n",
    "    return loader"
   ]
  },
  {
   "cell_type": "code",
   "execution_count": 14,
   "metadata": {},
   "outputs": [
    {
     "data": {
      "text/plain": [
       "32716"
      ]
     },
     "execution_count": 14,
     "metadata": {},
     "output_type": "execute_result"
    }
   ],
   "source": [
    "class_weights = [1, 2, 3, 4, 5, 6, 7, 8, 9, 10]\n",
    "train_loader = apply_weighted_sampler(train_data, class_weights)\n",
    "\n",
    "len(train_loader) * BATCH_SIZE"
   ]
  },
  {
   "cell_type": "code",
   "execution_count": 15,
   "metadata": {},
   "outputs": [
    {
     "name": "stdout",
     "output_type": "stream",
     "text": [
      "tensor([9, 7, 9, 9])\n"
     ]
    },
    {
     "data": {
      "image/png": "[encoded data removed]",
      "text/plain": [
       "<Figure size 1224x576 with 4 Axes>"
      ]
     },
     "metadata": {
      "needs_background": "light"
     },
     "output_type": "display_data"
    }
   ],
   "source": [
    "for img, label in train_loader:\n",
    "    plt.figure(figsize=(17, 8))\n",
    "    for i in range(len(img)):\n",
    "        plt.subplot(1, len(img), i + 1)\n",
    "        plt.imshow(img[i][0])\n",
    "    print(label)\n",
    "    break"
   ]
  },
  {
   "cell_type": "markdown",
   "metadata": {},
   "source": [
    "\n",
    "### Check if it works"
   ]
  },
  {
   "cell_type": "code",
   "execution_count": 16,
   "metadata": {},
   "outputs": [],
   "source": [
    "freqs = [0] * 10\n",
    "for img, label in train_loader:\n",
    "    for l in label:\n",
    "        freqs[l] += 1"
   ]
  },
  {
   "cell_type": "code",
   "execution_count": 17,
   "metadata": {},
   "outputs": [
    {
     "data": {
      "text/plain": [
       "array([ 1.        ,  2.20074349,  3.46096654,  4.44423792,  5.53159851,\n",
       "        6.66728625,  7.76579926,  8.70817844,  9.87732342, 11.15241636])"
      ]
     },
     "execution_count": 17,
     "metadata": {},
     "output_type": "execute_result"
    }
   ],
   "source": [
    "np.array(freqs) / (freqs[0] / class_weights[0])"
   ]
  }
 ],
 "metadata": {
  "kernelspec": {
   "display_name": "YSDA",
   "language": "python",
   "name": "ysda"
  },
  "language_info": {
   "codemirror_mode": {
    "name": "ipython",
    "version": 3
   },
   "file_extension": ".py",
   "mimetype": "text/x-python",
   "name": "python",
   "nbconvert_exporter": "python",
   "pygments_lexer": "ipython3",
   "version": "3.6.12"
  }
 },
 "nbformat": 4,
 "nbformat_minor": 4
}
