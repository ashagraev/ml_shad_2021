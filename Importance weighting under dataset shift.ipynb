{
 "cells": [
  {
   "cell_type": "code",
   "execution_count": 456,
   "metadata": {},
   "outputs": [],
   "source": [
    "import sys, os\n",
    "import pandas as pd\n",
    "import numpy as np\n",
    "import pylab as plt\n",
    "import torch\n",
    "from torch.utils.data import Dataset, DataLoader\n",
    "import torch.nn as nn\n",
    "import torch.nn.functional as F\n",
    "from torch import optim\n",
    "from sklearn.metrics import accuracy_score, roc_auc_score, pairwise_distances\n",
    "from sklearn.metrics.pairwise import rbf_kernel\n",
    "from tqdm.notebook import tqdm\n",
    "from IPython.display import clear_output\n",
    "import cvxopt as cvx"
   ]
  },
  {
   "cell_type": "code",
   "execution_count": 457,
   "metadata": {},
   "outputs": [],
   "source": [
    "if 'google.colab' in sys.modules and not os.path.exists('.setup_complete'):\n",
    "    !touch .setup_complete"
   ]
  },
  {
   "cell_type": "code",
   "execution_count": 8,
   "metadata": {},
   "outputs": [
    {
     "data": {
      "text/plain": [
       "device(type='cpu')"
      ]
     },
     "execution_count": 8,
     "metadata": {},
     "output_type": "execute_result"
    }
   ],
   "source": [
    "device = torch.device(\"cuda\" if torch.cuda.is_available() else \"cpu\")\n",
    "device"
   ]
  },
  {
   "cell_type": "markdown",
   "metadata": {},
   "source": [
    "# Importance weighting under dataset shift"
   ]
  },
  {
   "cell_type": "markdown",
   "metadata": {},
   "source": [
    "## Theory"
   ]
  },
  {
   "cell_type": "markdown",
   "metadata": {},
   "source": [
    "We are solving the problem of dataset shift, i.e. $p_\\text{train} (X, Y) \\neq p_\\text{target} (X, Y)$ and trying to find (see the theory: Dataset shift in machine learning)\n",
    "\n",
    "$$\\Theta_* = \\arg\\!\\min_\\Theta \\mathbb{E}_{p_\\text{target}} \\mathcal{L} (X, Y; \\Theta) = \\arg\\!\\min_\\Theta \\mathbb{E}_{p_\\text{train}} \\frac{p_\\text{target} (X,Y)}{p_\\text{train} (X,Y)} \\mathcal{L} (X, Y; \\Theta) \\approx \\arg\\!\\min_\\Theta \\frac{1}{n} \\sum_{i=1}^n \\underbrace{\\frac{p_\\text{target} (X, Y)}{p_\\text{train} (X,Y)}}_{\\omega(X, Y)} \\mathcal{L} (X, Y; \\Theta).$$\n",
    "\n",
    "We have a large training set and a small sample of target set."
   ]
  },
  {
   "cell_type": "markdown",
   "metadata": {},
   "source": [
    "<b>Importance weighting (IW)</b> consists of two steps:\n",
    "<ul>\n",
    "    <li><b>Weight estimation (WE)</b> with the help of target data $p_\\text{target} (X, Y)$ or $p_\\text{target}(X)$</li>\n",
    "    <li><b>Weighted classification (WC)</b> &mdash; classifier training</li>\n",
    "</ul>"
   ]
  },
  {
   "cell_type": "markdown",
   "metadata": {},
   "source": [
    "<u><b>Idea</b></u>. If we use deep model to predict $\\omega(X, Y)$, we need to have $\\displaystyle \\frac{1}{n} \\sum_i \\omega(X_i, Y_i) = 1$ (more on that in the theory part), which is incompatible with stochastic solvers. We can solve it by using <b>feature extractor (FE)</b>. We just transform $X$ and $Y$ and make $\\omega$ estimation on transformed data minimizing the discrepancy and satisfying the constraints. The transformation should be deterministic and invertible, otherwise, WE will not be correct."
   ]
  },
  {
   "cell_type": "markdown",
   "metadata": {},
   "source": [
    "<u><b>Idea</b></u>. How to choose transformation $\\pi(X, Y)$ which we will use to estimate $\\omega$? We can use our classifier: $\\pi(X, Y) = \\mathcal{L} (X, Y; \\Theta)$."
   ]
  },
  {
   "cell_type": "markdown",
   "metadata": {},
   "source": [
    "<b><u>Idea</u></b>. We will rely on the classifier to construct FE. <b>Dynamic importance weighting (DIW): </b>\n",
    "<ol>\n",
    "    <li>Update classifier for several epoches to pretrain it a little</li>\n",
    "    <li>Compute weigths with FE using the results of the classifier for training and target data</li>\n",
    "    <li>Update the classifier (one epoch) with fixed weights for training data</li>\n",
    "    <li>Repeat steps (2) and (3) until convergence</li>\n",
    "</ol>"
   ]
  },
  {
   "cell_type": "markdown",
   "metadata": {},
   "source": [
    "<b>References:</b><br>\n",
    "T. Fang, N. Lu, G. Niu and M. Sugiyama. Rethinking Importance Weighting for Deep Learning under Distribution Shift, <a href=\"Rethinking Importance Weighting for Deep Learning under Distribution Shift\">arXiv:2006.04662v2</a> (2020)."
   ]
  },
  {
   "cell_type": "markdown",
   "metadata": {},
   "source": [
    "## Loading data"
   ]
  },
  {
   "cell_type": "code",
   "execution_count": 393,
   "metadata": {},
   "outputs": [],
   "source": [
    "class ComposeDataset(Dataset):\n",
    "    \"\"\"Class similar to torch.utils.data.ConcatDataset but creates Dataset\n",
    "       from raw data of tuples\"\"\"\n",
    "\n",
    "    def __init__(self, datasets):\n",
    "        super(ComposeDataset, self).__init__()\n",
    "        self.datasets = []\n",
    "        self.idx_to_dataset = []\n",
    "        self.idx_to_idx_in_dataset = []\n",
    "\n",
    "        for dataset in datasets:\n",
    "            self.idx_to_dataset.extend([len(self.datasets)]*len(dataset[0]))\n",
    "            self.idx_to_idx_in_dataset.extend(np.arange(len(dataset[0])))\n",
    "            self.datasets.append(dataset)\n",
    "            \n",
    "    def __getitem__(self, idx):\n",
    "        dataset_idx = self.idx_to_dataset[idx]\n",
    "        in_dataset_idx = self.idx_to_idx_in_dataset[idx]\n",
    "        return (self.datasets[dataset_idx][0][in_dataset_idx],\n",
    "                self.datasets[dataset_idx][1][in_dataset_idx])\n",
    "    \n",
    "    def __len__(self):\n",
    "        return len(self.idx_to_dataset)"
   ]
  },
  {
   "cell_type": "code",
   "execution_count": 9,
   "metadata": {},
   "outputs": [],
   "source": [
    "def download_url(url, dirname, fmt=None):\n",
    "    \"\"\"A convenient function to download file given url\"\"\"\n",
    "    \n",
    "    from six.moves import urllib\n",
    "    data = urllib.request.urlopen(url)\n",
    "    filename = url.rpartition('/')[2]\n",
    "    filepath = os.path.join(dirname, filename)\n",
    "    with open(filepath, 'wb') as f:\n",
    "        f.write(data.read())\n",
    "\n",
    "    if fmt==\"gz\":\n",
    "        import gzip\n",
    "        zipped = gzip.GzipFile(filepath)\n",
    "        with open(filepath.replace('.gz', ''), 'wb') as f:\n",
    "            f.write(zipped.read())\n",
    "        os.remove(filepath)\n",
    "        filepath = filepath.replace('.gz', '')\n",
    "\n",
    "    return filepath"
   ]
  },
  {
   "cell_type": "markdown",
   "metadata": {},
   "source": [
    "We use Fashion-MNIST, as in the original article"
   ]
  },
  {
   "cell_type": "code",
   "execution_count": 335,
   "metadata": {},
   "outputs": [],
   "source": [
    "class FashionMNIST(Dataset):\n",
    "    \"\"\"Fashion-MNIST dataset from https://github.com/zalandoresearch/fashion-mnist \"\"\"\n",
    "\n",
    "    urls = [\n",
    "        \"http://fashion-mnist.s3-website.eu-central-1.amazonaws.com/train-images-idx3-ubyte.gz\",\n",
    "        \"http://fashion-mnist.s3-website.eu-central-1.amazonaws.com/train-labels-idx1-ubyte.gz\",\n",
    "        \"http://fashion-mnist.s3-website.eu-central-1.amazonaws.com/t10k-images-idx3-ubyte.gz\",\n",
    "        \"http://fashion-mnist.s3-website.eu-central-1.amazonaws.com/t10k-labels-idx1-ubyte.gz\",\n",
    "    ]\n",
    "    \n",
    "    raw_folder = 'fashion_mnist'\n",
    "    \n",
    "    def __init__(self, train=True, transform=None, device=\"cpu\"):\n",
    "        super(FashionMNIST, self).__init__()\n",
    "        self.train = train\n",
    "        self.transform = transform\n",
    "        self.device = device\n",
    "        \n",
    "        # download data if not already\n",
    "        if not os.path.exists(self.raw_folder):\n",
    "            os.makedirs(self.raw_folder)\n",
    "            data = []\n",
    "            for idx, url in enumerate(self.urls):\n",
    "                print(\"Downloading \" + url, end=\" \")\n",
    "                filepath = download_url(url, self.raw_folder, fmt=\"gz\")\n",
    "                with open(filepath, \"rb\") as f:\n",
    "                    data.append(np.frombuffer(\n",
    "                        f.read(), dtype=np.uint8, offset=8*(2-(idx%2))\n",
    "                    ))\n",
    "                os.remove(filepath)\n",
    "                print(\"done!\")\n",
    "\n",
    "            with open(os.path.join(self.raw_folder, \"train_data.pt\"), \"wb\") as f:   \n",
    "                torch.save((data[0].reshape(len(data[1]), 1, 28, 28), data[1]), f)\n",
    "                \n",
    "            with open(os.path.join(self.raw_folder, \"test_data.pt\"), \"wb\") as f:\n",
    "                torch.save((data[2].reshape(len(data[3]), 1, 28, 28), data[3]), f)\n",
    "            \n",
    "        if train:\n",
    "            self.data, self.labels = torch.load(\n",
    "                os.path.join(self.raw_folder, \"train_data.pt\"),\n",
    "            )\n",
    "            \n",
    "            self.data, self.labels = \\\n",
    "                torch.FloatTensor(self.data).to(device),\\\n",
    "                torch.LongTensor(self.labels).to(device)\n",
    "                \n",
    "        else:\n",
    "            self.data, self.labels = torch.load(\n",
    "            os.path.join(self.raw_folder, \"test_data.pt\"),\n",
    "        )\n",
    "        \n",
    "            self.data, self.labels = \\\n",
    "                torch.FloatTensor(self.data).to(device),\\\n",
    "                torch.LongTensor(self.labels).to(device)\n",
    "            \n",
    "        if self.transform is not None:\n",
    "            if isinstance(self.transform, list):\n",
    "                for transform in self.transform:\n",
    "                    self.data, self.labels = transform(self.data, self.labels)\n",
    "            else:\n",
    "                self.data, self.labels = self.transform(self.data, self.labels)\n",
    "        \n",
    "    def __getitem__(self, idx):\n",
    "        return self.data[idx], self.labels[idx]\n",
    "    \n",
    "    def __len__(self):\n",
    "        return len(self.data)"
   ]
  },
  {
   "cell_type": "code",
   "execution_count": 161,
   "metadata": {},
   "outputs": [],
   "source": [
    "labels_txt = [\"T-shirt/top\", \"Trouser\", \"Pullover\", \"Dress\", \"Coat\",\n",
    "              \"Sandal\", \"Shirt\", \"Sneaker\", \"Bag\", \"Ankle Boot\"]\n",
    "train_dataset = FashionMNIST(train=True, device=device)\n",
    "test_dataset = FashionMNIST(train=False, device=device)"
   ]
  },
  {
   "cell_type": "code",
   "execution_count": 168,
   "metadata": {},
   "outputs": [
    {
     "data": {
      "image/png": "[encoded data removed]",
      "text/plain": [
       "<Figure size 864x288 with 14 Axes>"
      ]
     },
     "metadata": {
      "needs_background": "light"
     },
     "output_type": "display_data"
    }
   ],
   "source": [
    "plt.figure(figsize=(12, 4))\n",
    "for idx in np.arange(14):\n",
    "    plt.subplot(2, 7, 1+idx)\n",
    "    data, label = train_dataset[idx]\n",
    "    plt.title(labels_txt[label])\n",
    "    plt.imshow(data[0], cmap='Greys_r')\n",
    "plt.tight_layout();"
   ]
  },
  {
   "cell_type": "markdown",
   "metadata": {},
   "source": [
    "## Introducing shifts"
   ]
  },
  {
   "cell_type": "code",
   "execution_count": 169,
   "metadata": {},
   "outputs": [],
   "source": [
    "class PairFlip:\n",
    "    \"\"\"A label j, if it gets mislabeled, must flip to class j+1 mod k\"\"\"\n",
    "\n",
    "    def __init__(self, n_labels, p=0.2, random_state=1):\n",
    "        self.n_labels = n_labels\n",
    "        self.p = p\n",
    "        self.random_state = random_state\n",
    "\n",
    "    def __call__(self, data, labels):\n",
    "        torch.manual_seed(self.random_state)\n",
    "        flips = torch.bernoulli(self.p*torch.ones(len(labels)))\n",
    "        labels = ((1-flips)*labels + \\\n",
    "            flips*(torch.fmod(labels+1, self.n_labels))).long()\n",
    "        return data, labels"
   ]
  },
  {
   "cell_type": "code",
   "execution_count": 170,
   "metadata": {},
   "outputs": [],
   "source": [
    "class SymmetricFlip:\n",
    "    \"\"\"A label j, if it gets mislabeled, may flip to all other classes\n",
    "       with equal probability\"\"\"\n",
    "\n",
    "    def __init__(self, n_labels, p=0.2, random_state=1):\n",
    "        self.n_labels = n_labels\n",
    "        self.p = p\n",
    "        self.random_state = random_state\n",
    "\n",
    "    def __call__(self, data, labels):\n",
    "        torch.manual_seed(self.random_state)\n",
    "\n",
    "        # a little trick here: first we choose if we stay at the same label,\n",
    "        # if not, than we choose any label (including the one in which we started)\n",
    "        # with equal probability\n",
    "        pt = self.n_labels*self.p/(self.n_labels-1)\n",
    "        flips = torch.bernoulli(pt*torch.ones(len(labels)))\n",
    "        labels = ((1-flips)*labels + \\\n",
    "            flips*(torch.randint(high=self.n_labels, size=(len(labels),)))).long()\n",
    "        return data, labels"
   ]
  },
  {
   "cell_type": "code",
   "execution_count": 316,
   "metadata": {},
   "outputs": [],
   "source": [
    "# we can combine several shifts together\n",
    "transform = [\n",
    "    #PairFlip(n_labels=10, p=0.5),\n",
    "    SymmetricFlip(n_labels=10, p=0.2),\n",
    "]\n",
    "\n",
    "shifted_train_dataset = FashionMNIST(train=True, transform=transform, device=device)"
   ]
  },
  {
   "cell_type": "code",
   "execution_count": 306,
   "metadata": {},
   "outputs": [
    {
     "data": {
      "image/png": "[encoded data removed]",
      "text/plain": [
       "<Figure size 864x288 with 14 Axes>"
      ]
     },
     "metadata": {
      "needs_background": "light"
     },
     "output_type": "display_data"
    }
   ],
   "source": [
    "plt.figure(figsize=(12, 4))\n",
    "for idx in np.arange(14):\n",
    "    plt.subplot(2, 7, 1+idx)\n",
    "    data, label = shifted_train_dataset[idx]\n",
    "    plt.title(labels_txt[label])\n",
    "    plt.imshow(data[0], cmap='Greys_r')\n",
    "plt.tight_layout();"
   ]
  },
  {
   "cell_type": "markdown",
   "metadata": {},
   "source": [
    "## Discrepancy measures"
   ]
  },
  {
   "cell_type": "code",
   "execution_count": 399,
   "metadata": {},
   "outputs": [],
   "source": [
    "class IdenticalMatching:\n",
    "    \"\"\"Ignores the difference between distributions\"\"\"\n",
    "    \n",
    "    def set_data(self, train, target):\n",
    "        self.train = train\n",
    "        self.target = target\n",
    "\n",
    "    def compute_weights(self):\n",
    "        return torch.ones(self.train.shape[0])"
   ]
  },
  {
   "cell_type": "code",
   "execution_count": 451,
   "metadata": {},
   "outputs": [],
   "source": [
    "class KernelMeanMatching:\n",
    "    \"\"\"Kernel Mean Matching\"\"\"\n",
    "    \n",
    "    def set_data(self, train, target):\n",
    "        self.train = train.data.cpu().numpy()\n",
    "        self.target = target.data.cpu().numpy()\n",
    "\n",
    "    def compute_weights(self):\n",
    "        self.gamma = np.quantile(pairwise_distances(self.train), 0.01)\n",
    "        \n",
    "        # calculate kernel and regularize as K + aI\n",
    "        K = rbf_kernel(self.train, self.train, self.gamma)\n",
    "        K = K + 1e-5*np.eye(K.shape[0])\n",
    "        \n",
    "        # calculate vector k (as defined in the article)\n",
    "        k = rbf_kernel(self.train, self.target, self.gamma)\n",
    "        k = np.dot(k, np.ones(len(self.target)).T)\n",
    "        k = -(len(self.train)/len(self.target))*k\n",
    "        \n",
    "        # optimization parameters\n",
    "        eps = 1 - 1/np.sqrt(len(self.train))\n",
    "        A = np.vstack([np.ones_like(self.train).T,\n",
    "                       -np.ones_like(self.train).T,\n",
    "                       -np.eye(len(self.train)),\n",
    "                       np.eye(len(self.train))])\n",
    "        \n",
    "        b = np.vstack([np.array([[len(self.train)*(eps + 1), len(self.train)*(eps - 1)]]).T,\n",
    "                       -np.zeros(len(self.train))[:, np.newaxis],\n",
    "                       50*np.ones(len(self.train))[:, np.newaxis]])\n",
    "        \n",
    "        # convex optimization of quadratic problem\n",
    "        P = cvx.matrix(K, tc='d')\n",
    "        q = cvx.matrix(k, tc='d')\n",
    "        G = cvx.matrix(A, tc='d')\n",
    "        h = cvx.matrix(b, tc='d')\n",
    "        cvx.solvers.options['show_progress'] = False\n",
    "        beta = cvx.solvers.qp(P, q, G, h)\n",
    "        return torch.FloatTensor([weight for weight in beta['x']])"
   ]
  },
  {
   "cell_type": "markdown",
   "metadata": {},
   "source": [
    "## Model definition"
   ]
  },
  {
   "cell_type": "code",
   "execution_count": 415,
   "metadata": {},
   "outputs": [],
   "source": [
    "class LeNet(nn.Module):\n",
    "    def __init__(self, n_labels):\n",
    "        super(LeNet, self).__init__()\n",
    "        \n",
    "        self.conv = nn.Sequential(\n",
    "            nn.Conv2d(1, 6, kernel_size=5, padding=2),\n",
    "            nn.ReLU(),\n",
    "            nn.MaxPool2d(kernel_size=2, stride=2),\n",
    "            nn.Conv2d(6, 16, kernel_size=5),\n",
    "            nn.ReLU(),\n",
    "            nn.MaxPool2d(2, 2),\n",
    "        )\n",
    "        \n",
    "        self.vec = nn.Sequential(\n",
    "            nn.Linear(16*5*5, 120),\n",
    "            nn.ReLU(),\n",
    "            nn.Linear(120, 84),\n",
    "            nn.ReLU(),\n",
    "            nn.Linear(84, n_labels)\n",
    "        )\n",
    "\n",
    "    def forward(self, inputs):\n",
    "        outputs = self.conv(inputs)\n",
    "        outputs = outputs.view(outputs.shape[0], -1)\n",
    "        outputs = self.vec(outputs)\n",
    "        return outputs"
   ]
  },
  {
   "cell_type": "markdown",
   "metadata": {},
   "source": [
    "## Training"
   ]
  },
  {
   "cell_type": "code",
   "execution_count": 471,
   "metadata": {},
   "outputs": [],
   "source": [
    "# we choose num_val data as validation which is unshifted data\n",
    "# we also add this data to train data\n",
    "num_val = 1000\n",
    "val_ids = np.random.choice(len(train_dataset), num_val)\n",
    "not_val_ids = np.ones(len(train_dataset), dtype=bool)\n",
    "not_val_ids[val_ids] = False\n",
    "\n",
    "train_loader = DataLoader(\n",
    "    ComposeDataset([shifted_train_dataset[not_val_ids], train_dataset[val_ids]]),\n",
    "    batch_size=256,\n",
    ")\n",
    "val_loader = DataLoader(\n",
    "    ComposeDataset([train_dataset[val_ids]]),\n",
    "    batch_size=256,\n",
    ")\n",
    "test_loader =  DataLoader(\n",
    "    test_dataset,\n",
    "    batch_size=256,\n",
    ")"
   ]
  },
  {
   "cell_type": "code",
   "execution_count": 480,
   "metadata": {},
   "outputs": [],
   "source": [
    "net = LeNet(n_labels=10).to(device)\n",
    "opt = optim.SGD(net.parameters(), lr=0.0003, weight_decay=0.0001)\n",
    "scheduler = optim.lr_scheduler.StepLR(opt, step_size=100, gamma=0.1)\n",
    "discrepancy = KernelMeanMatching()"
   ]
  },
  {
   "cell_type": "code",
   "execution_count": 481,
   "metadata": {},
   "outputs": [],
   "source": [
    "def train_model(model, optimiser, scheduler, discrepancy, num_epochs=5):\n",
    "    \"\"\"Train a model with DIW\"\"\"\n",
    "    \n",
    "    train_accuracy = []\n",
    "    test_accuracy = []\n",
    "\n",
    "    for epoch in range(num_epochs):\n",
    "\n",
    "        train_accuracy_epoch = [] # accuracy withing one epoch\n",
    "        test_accuracy_epoch = [] # accuracy withing one epoch\n",
    "\n",
    "        for data, labels in train_loader:\n",
    "            \n",
    "            ##################################################################\n",
    "            ###################  Weight Estimation (WE)  #####################\n",
    "            ##################################################################\n",
    "\n",
    "            if epoch < 1:\n",
    "                weights = torch.ones(1)\n",
    "            else:\n",
    "                model.eval()\n",
    "\n",
    "                # we compute loss which is essentially our transformation pi(X, Y)\n",
    "                out = model.forward(data)\n",
    "                pi = F.cross_entropy(out, labels, reduction='none')\n",
    "\n",
    "                # sample batch from the target dataset\n",
    "                val_data, val_labels = next(iter(val_loader))\n",
    "\n",
    "                # we compute transformation pi(X, Y) for target dataset\n",
    "                val_out = model.forward(val_data)\n",
    "                pi_val = F.cross_entropy(val_out, val_labels, reduction='none')\n",
    "\n",
    "                # compute weights by minimizing given discrepancy measure\n",
    "                # we use detach to disallow propagating gradients\n",
    "                discrepancy.set_data(pi.reshape(-1, 1), pi_val.reshape(-1, 1))\n",
    "                weights = discrepancy.compute_weights().detach()\n",
    "            \n",
    "            ##################################################################\n",
    "            #################  Weighted Classification (WE)  #################\n",
    "            ##################################################################\n",
    "            \n",
    "            model.train()\n",
    "            \n",
    "            # now we treat it as a usual loss\n",
    "            out = model.forward(data)\n",
    "            loss = F.cross_entropy(out, labels, reduction='none')\n",
    "            loss_weighted = torch.sum(loss*weights)\n",
    "            \n",
    "            # back propagation from weighted loss\n",
    "            opt.zero_grad()\n",
    "            loss_weighted.backward()\n",
    "            opt.step()\n",
    "\n",
    "            preds = torch.max(out, axis=1)[1].data.cpu().numpy()\n",
    "            train_accuracy_epoch.append(accuracy_score(labels.data.cpu().numpy(), preds))\n",
    "            \n",
    "        train_accuracy_mean = np.mean(train_accuracy_epoch)\n",
    "        train_accuracy.append(train_accuracy_mean)\n",
    "        \n",
    "        model.eval()\n",
    "        for test_data, test_labels in test_loader:\n",
    "            test_out = model.forward(test_data)\n",
    "            test_preds = torch.max(test_out, axis=1)[1].data.cpu().numpy()\n",
    "            test_accuracy_epoch.append(accuracy_score(\n",
    "                test_labels.data.cpu().numpy(), test_preds))\n",
    "            \n",
    "        test_accuracy_mean = np.mean(test_accuracy_epoch)\n",
    "        test_accuracy.append(test_accuracy_mean)\n",
    "        scheduler.step()\n",
    "        \n",
    "        clear_output(wait=True)\n",
    "        plt.title(\"Epoch {}/{}\".format(1+epoch, num_epochs))\n",
    "        plt.plot(1+np.arange(1+epoch), train_accuracy, label=\"train accuracy\")\n",
    "        plt.plot(1+np.arange(1+epoch), test_accuracy, label=\"test accuracy\")\n",
    "        plt.legend()\n",
    "        plt.show()\n",
    "\n",
    "    return train_accuracy, test_accuracy"
   ]
  },
  {
   "cell_type": "code",
   "execution_count": 482,
   "metadata": {},
   "outputs": [
    {
     "data": {
      "image/png": "[encoded data removed]",
      "text/plain": [
       "<Figure size 432x288 with 1 Axes>"
      ]
     },
     "metadata": {
      "needs_background": "light"
     },
     "output_type": "display_data"
    }
   ],
   "source": [
    "result = train_model(net, opt, scheduler, discrepancy, num_epochs=5)"
   ]
  }
 ],
 "metadata": {
  "kernelspec": {
   "display_name": "Python 3",
   "language": "python",
   "name": "python3"
  },
  "language_info": {
   "codemirror_mode": {
    "name": "ipython",
    "version": 3
   },
   "file_extension": ".py",
   "mimetype": "text/x-python",
   "name": "python",
   "nbconvert_exporter": "python",
   "pygments_lexer": "ipython3",
   "version": "3.7.6"
  },
  "toc": {
   "base_numbering": 1,
   "nav_menu": {},
   "number_sections": true,
   "sideBar": true,
   "skip_h1_title": false,
   "title_cell": "Table of Contents",
   "title_sidebar": "Contents",
   "toc_cell": false,
   "toc_position": {},
   "toc_section_display": true,
   "toc_window_display": false
  }
 },
 "nbformat": 4,
 "nbformat_minor": 4
}
